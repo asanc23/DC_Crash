{
  "nbformat": 4,
  "nbformat_minor": 0,
  "metadata": {
    "colab": {
      "provenance": [],
      "authorship_tag": "ABX9TyNS6B4QDJjiwBqFYCC3ieMR",
      "include_colab_link": true
    },
    "kernelspec": {
      "name": "python3",
      "display_name": "Python 3"
    },
    "language_info": {
      "name": "python"
    }
  },
  "cells": [
    {
      "cell_type": "markdown",
      "metadata": {
        "id": "view-in-github",
        "colab_type": "text"
      },
      "source": [
        "<a href=\"https://colab.research.google.com/github/asanc23/DC_Crash/blob/main/DC_Crash_Analysis.ipynb\" target=\"_parent\"><img src=\"https://colab.research.google.com/assets/colab-badge.svg\" alt=\"Open In Colab\"/></a>"
      ]
    },
    {
      "cell_type": "markdown",
      "source": [
        "# Loading libraries and importing CSV data\n"
      ],
      "metadata": {
        "id": "0zRXB05leqP6"
      }
    },
    {
      "cell_type": "code",
      "execution_count": null,
      "metadata": {
        "id": "8n6x17aUopik",
        "colab": {
          "base_uri": "https://localhost:8080/"
        },
        "outputId": "7d1a6450-084b-415d-c7e9-505576397225"
      },
      "outputs": [
        {
          "output_type": "stream",
          "name": "stdout",
          "text": [
            "Mounted at /content/drive\n"
          ]
        },
        {
          "output_type": "stream",
          "name": "stderr",
          "text": [
            "<ipython-input-1-05ed7bb1da60>:12: DtypeWarning: Columns (0,1,2,4,18) have mixed types. Specify dtype option on import or set low_memory=False.\n",
            "  df= pd.read_csv(DC_Crash)\n"
          ]
        }
      ],
      "source": [
        "import pandas as pd\n",
        "import numpy as np\n",
        "import seaborn as sns\n",
        "import matplotlib.pyplot as plt\n",
        "\n",
        "from google.colab.data_table import DataTable\n",
        "DataTable.max_columns = 50\n",
        "from google.colab import drive\n",
        "drive.mount('/content/drive')\n",
        "\n",
        "DC_Crash= '/content/drive/MyDrive/Colab Notebooks/DC Crashes/Crashes_in_DC.csv'\n",
        "df= pd.read_csv(DC_Crash)"
      ]
    },
    {
      "cell_type": "markdown",
      "source": [
        "# Cleaning the data"
      ],
      "metadata": {
        "id": "kbPXM5y9XE20"
      }
    },
    {
      "cell_type": "code",
      "source": [
        "#dropping unused columns\n",
        "df2= df.drop(columns= ['MPDLONGITUDE','MPDLATITUDE','X', 'Y','CCN', 'XCOORD', 'YCOORD', 'MAR_SCORE', 'LOCATIONERROR', 'LASTUPDATEDATE', 'MPDGEOY', 'MPDGEOX', 'MAR_ID', 'MEASURE', 'OFFSET', 'STREETSEGID', 'ROUTEID', 'NEARESTINTROUTEID', 'NEARESTINTSTREETNAME', 'EVENTID', 'ROADWAYSEGID', 'FROMDATE'])\n",
        "\n",
        "#dropping nans\n",
        "df3= df2.dropna()\n",
        "\n",
        "#adding time column, removing time from REPORTDATE, and adding YEAR column\n",
        "df3['REPORTTIME'] = df3.REPORTDATE.str[11:]\n",
        "df3['REPORTDATE'] = df3['REPORTDATE'].str[:11]\n",
        "df3['YEAR']= df3['REPORTDATE'].str[:4].astype(int)\n",
        "\n",
        "df3= df3.query('`YEAR` >= 2013')\n",
        "\n",
        "#saving\n",
        "df3.to_csv(\"DC_Crash_CleanedData.csv\")"
      ],
      "metadata": {
        "id": "vzMwTlG9n62D"
      },
      "execution_count": null,
      "outputs": []
    },
    {
      "cell_type": "markdown",
      "source": [
        "I first began dropping columns that didn't serve much value such as many of the indentification numbers, mainly because I won't be searching up individual case IDs. I then dropped all null values as it would throw off any calculations I make. Next I filtered and formated the date and time columns as the dataset had entries dating as far back as 1975 but were not consistent. For that reason I decided to filter it to the past 10 years."
      ],
      "metadata": {
        "id": "EzO4ttvYr-au"
      }
    },
    {
      "cell_type": "markdown",
      "source": [
        "# Understanding the Data\n"
      ],
      "metadata": {
        "id": "Cxb13NbrW-mM"
      }
    },
    {
      "cell_type": "code",
      "source": [
        "print(f'Number of Reported Accidents: {len(df3)}')"
      ],
      "metadata": {
        "id": "XG33059RwcKZ",
        "colab": {
          "base_uri": "https://localhost:8080/"
        },
        "outputId": "55e6fa50-0652-408e-90ef-803702e22a37"
      },
      "execution_count": null,
      "outputs": [
        {
          "output_type": "stream",
          "name": "stdout",
          "text": [
            "Number of Reported Accidents: 207015\n"
          ]
        }
      ]
    },
    {
      "cell_type": "code",
      "source": [
        "#count of how many vehicles were involved\n",
        "\n",
        "veh_counts= pd.value_counts(df3['TOTAL_VEHICLES'])\n",
        "vehresult = [index * value for index, value in veh_counts.items()]\n",
        "\n",
        "#count of how many bikes were involved\n",
        "\n",
        "bike_counts= pd.value_counts(df3['TOTAL_BICYCLES'])\n",
        "bikeresult = [index * value for index, value in bike_counts.items()]\n",
        "\n",
        "#count of how many pedestrians were involved\n",
        "\n",
        "ped_counts= pd.value_counts(df3['TOTAL_PEDESTRIANS'])\n",
        "pedresult = [index * value for index, value in ped_counts.items()]\n",
        "\n",
        "#count of how many taxis were involved\n",
        "\n",
        "taxi_counts= pd.value_counts(df3['TOTAL_TAXIS'])\n",
        "taxiresult = [index * value for index, value in taxi_counts.items()]\n",
        "\n",
        "#count of how many Government vehicles were involved\n",
        "\n",
        "gov_counts= pd.value_counts(df3['TOTAL_GOVERNMENT'])\n",
        "govresult = [index * value for index, value in gov_counts.items()]"
      ],
      "metadata": {
        "id": "uOeqrCxwbNk8"
      },
      "execution_count": null,
      "outputs": []
    },
    {
      "cell_type": "code",
      "source": [
        "print(f'Total Number of accidents: {len(df3)}')\n",
        "print(f'Total Reported Vehicles: {sum(vehresult):.0f}')\n",
        "print(f'Avg Vehicles per Accident: {round(sum(vehresult)/len(df3),2)}')\n",
        "print(f'\\nTotal Reported Bicycles: {sum(bikeresult):.0f}')\n",
        "print(f'\\nTotal Reported Pedestrians: {sum(pedresult):.0f}')\n",
        "print(f'\\nTotal Reported Taxis: {sum(taxiresult):.0f}')\n",
        "print(f'\\nTotal Reported Government: {sum(govresult):.0f}')"
      ],
      "metadata": {
        "colab": {
          "base_uri": "https://localhost:8080/"
        },
        "id": "0LtZzKaJqACD",
        "outputId": "20391bbd-6ec8-4ce8-c8cc-709c3d42c1a1"
      },
      "execution_count": null,
      "outputs": [
        {
          "output_type": "stream",
          "name": "stdout",
          "text": [
            "Total Number of accidents: 207015\n",
            "Total Reported Vehicles: 408074\n",
            "Avg Vehicles per Accident: 1.97\n",
            "\n",
            "Total Reported Bicycles: 4466\n",
            "\n",
            "Total Reported Pedestrians: 9874\n",
            "\n",
            "Total Reported Taxis: 11001\n",
            "\n",
            "Total Reported Government: 23490\n"
          ]
        }
      ]
    },
    {
      "cell_type": "code",
      "source": [
        "speed_counts= pd.value_counts(df3['SPEEDING_INVOLVED'])\n",
        "speedresult = [index * value for index, value in speed_counts.items()]\n",
        "print(f'Number of accidents where speeding was involved: {sum(speedresult):.0f}')"
      ],
      "metadata": {
        "colab": {
          "base_uri": "https://localhost:8080/"
        },
        "id": "BSu77weAWOhE",
        "outputId": "e025acb8-9aa4-416d-d942-cbdbce4c3662"
      },
      "execution_count": null,
      "outputs": [
        {
          "output_type": "stream",
          "name": "stdout",
          "text": [
            "Number of accidents where speeding was involved: 3531\n"
          ]
        }
      ]
    },
    {
      "cell_type": "code",
      "source": [
        "#count of impaired drivers\n",
        "impdriv_counts= pd.value_counts(df3['DRIVERSIMPAIRED'])\n",
        "impdrivresult = [index * value for index, value in impdriv_counts.items()]\n",
        "\n",
        "print(f'\\nTotal Impaired drivers : {sum(impdrivresult):.0f}')\n"
      ],
      "metadata": {
        "colab": {
          "base_uri": "https://localhost:8080/"
        },
        "id": "yF_tN3u7rkSB",
        "outputId": "6bb72272-7ec1-4717-8640-94fe1500839b"
      },
      "execution_count": null,
      "outputs": [
        {
          "output_type": "stream",
          "name": "stdout",
          "text": [
            "\n",
            "Total Impaired drivers : 3764\n"
          ]
        }
      ]
    },
    {
      "cell_type": "code",
      "source": [
        "#injuries by ward\n",
        "(df3\n",
        " .groupby('WARD')\n",
        " .agg({'MAJORINJURIES_BICYCLIST': 'sum' ,'MINORINJURIES_BICYCLIST': 'sum', 'MAJORINJURIES_DRIVER': 'sum'  , 'MINORINJURIES_DRIVER': 'sum' , 'MAJORINJURIES_PEDESTRIAN': 'sum', 'MINORINJURIES_PEDESTRIAN': 'sum'}).reset_index()\n",
        " )[1:]"
      ],
      "metadata": {
        "colab": {
          "base_uri": "https://localhost:8080/",
          "height": 300
        },
        "id": "BsUcTSn_9Mc0",
        "outputId": "975e4a1c-1e68-4f6f-f1af-bd6942efe3a2"
      },
      "execution_count": null,
      "outputs": [
        {
          "output_type": "execute_result",
          "data": {
            "text/plain": [
              "     WARD  MAJORINJURIES_BICYCLIST  MINORINJURIES_BICYCLIST  \\\n",
              "1  Ward 1                     52.0                    513.0   \n",
              "2  Ward 2                    120.0                    904.0   \n",
              "3  Ward 3                     21.0                    147.0   \n",
              "4  Ward 4                     27.0                    220.0   \n",
              "5  Ward 5                     48.0                    317.0   \n",
              "6  Ward 6                     62.0                    464.0   \n",
              "7  Ward 7                     17.0                    118.0   \n",
              "8  Ward 8                     11.0                     86.0   \n",
              "\n",
              "   MAJORINJURIES_DRIVER  MINORINJURIES_DRIVER  MAJORINJURIES_PEDESTRIAN  \\\n",
              "1                 739.0                2214.0                     185.0   \n",
              "2                1459.0                4334.0                     347.0   \n",
              "3                 451.0                1748.0                     110.0   \n",
              "4                 767.0                3497.0                     164.0   \n",
              "5                1441.0                6574.0                     249.0   \n",
              "6                1106.0                4413.0                     235.0   \n",
              "7                1370.0                6413.0                     251.0   \n",
              "8                 931.0                5037.0                     237.0   \n",
              "\n",
              "   MINORINJURIES_PEDESTRIAN  \n",
              "1                     691.0  \n",
              "2                    1294.0  \n",
              "3                     322.0  \n",
              "4                     519.0  \n",
              "5                     792.0  \n",
              "6                     837.0  \n",
              "7                     584.0  \n",
              "8                     712.0  "
            ],
            "text/html": [
              "\n",
              "  <div id=\"df-d6278ded-f589-42c6-a7e9-d7e898f5a168\" class=\"colab-df-container\">\n",
              "    <div>\n",
              "<style scoped>\n",
              "    .dataframe tbody tr th:only-of-type {\n",
              "        vertical-align: middle;\n",
              "    }\n",
              "\n",
              "    .dataframe tbody tr th {\n",
              "        vertical-align: top;\n",
              "    }\n",
              "\n",
              "    .dataframe thead th {\n",
              "        text-align: right;\n",
              "    }\n",
              "</style>\n",
              "<table border=\"1\" class=\"dataframe\">\n",
              "  <thead>\n",
              "    <tr style=\"text-align: right;\">\n",
              "      <th></th>\n",
              "      <th>WARD</th>\n",
              "      <th>MAJORINJURIES_BICYCLIST</th>\n",
              "      <th>MINORINJURIES_BICYCLIST</th>\n",
              "      <th>MAJORINJURIES_DRIVER</th>\n",
              "      <th>MINORINJURIES_DRIVER</th>\n",
              "      <th>MAJORINJURIES_PEDESTRIAN</th>\n",
              "      <th>MINORINJURIES_PEDESTRIAN</th>\n",
              "    </tr>\n",
              "  </thead>\n",
              "  <tbody>\n",
              "    <tr>\n",
              "      <th>1</th>\n",
              "      <td>Ward 1</td>\n",
              "      <td>52.0</td>\n",
              "      <td>513.0</td>\n",
              "      <td>739.0</td>\n",
              "      <td>2214.0</td>\n",
              "      <td>185.0</td>\n",
              "      <td>691.0</td>\n",
              "    </tr>\n",
              "    <tr>\n",
              "      <th>2</th>\n",
              "      <td>Ward 2</td>\n",
              "      <td>120.0</td>\n",
              "      <td>904.0</td>\n",
              "      <td>1459.0</td>\n",
              "      <td>4334.0</td>\n",
              "      <td>347.0</td>\n",
              "      <td>1294.0</td>\n",
              "    </tr>\n",
              "    <tr>\n",
              "      <th>3</th>\n",
              "      <td>Ward 3</td>\n",
              "      <td>21.0</td>\n",
              "      <td>147.0</td>\n",
              "      <td>451.0</td>\n",
              "      <td>1748.0</td>\n",
              "      <td>110.0</td>\n",
              "      <td>322.0</td>\n",
              "    </tr>\n",
              "    <tr>\n",
              "      <th>4</th>\n",
              "      <td>Ward 4</td>\n",
              "      <td>27.0</td>\n",
              "      <td>220.0</td>\n",
              "      <td>767.0</td>\n",
              "      <td>3497.0</td>\n",
              "      <td>164.0</td>\n",
              "      <td>519.0</td>\n",
              "    </tr>\n",
              "    <tr>\n",
              "      <th>5</th>\n",
              "      <td>Ward 5</td>\n",
              "      <td>48.0</td>\n",
              "      <td>317.0</td>\n",
              "      <td>1441.0</td>\n",
              "      <td>6574.0</td>\n",
              "      <td>249.0</td>\n",
              "      <td>792.0</td>\n",
              "    </tr>\n",
              "    <tr>\n",
              "      <th>6</th>\n",
              "      <td>Ward 6</td>\n",
              "      <td>62.0</td>\n",
              "      <td>464.0</td>\n",
              "      <td>1106.0</td>\n",
              "      <td>4413.0</td>\n",
              "      <td>235.0</td>\n",
              "      <td>837.0</td>\n",
              "    </tr>\n",
              "    <tr>\n",
              "      <th>7</th>\n",
              "      <td>Ward 7</td>\n",
              "      <td>17.0</td>\n",
              "      <td>118.0</td>\n",
              "      <td>1370.0</td>\n",
              "      <td>6413.0</td>\n",
              "      <td>251.0</td>\n",
              "      <td>584.0</td>\n",
              "    </tr>\n",
              "    <tr>\n",
              "      <th>8</th>\n",
              "      <td>Ward 8</td>\n",
              "      <td>11.0</td>\n",
              "      <td>86.0</td>\n",
              "      <td>931.0</td>\n",
              "      <td>5037.0</td>\n",
              "      <td>237.0</td>\n",
              "      <td>712.0</td>\n",
              "    </tr>\n",
              "  </tbody>\n",
              "</table>\n",
              "</div>\n",
              "    <div class=\"colab-df-buttons\">\n",
              "\n",
              "  <div class=\"colab-df-container\">\n",
              "    <button class=\"colab-df-convert\" onclick=\"convertToInteractive('df-d6278ded-f589-42c6-a7e9-d7e898f5a168')\"\n",
              "            title=\"Convert this dataframe to an interactive table.\"\n",
              "            style=\"display:none;\">\n",
              "\n",
              "  <svg xmlns=\"http://www.w3.org/2000/svg\" height=\"24px\" viewBox=\"0 -960 960 960\">\n",
              "    <path d=\"M120-120v-720h720v720H120Zm60-500h600v-160H180v160Zm220 220h160v-160H400v160Zm0 220h160v-160H400v160ZM180-400h160v-160H180v160Zm440 0h160v-160H620v160ZM180-180h160v-160H180v160Zm440 0h160v-160H620v160Z\"/>\n",
              "  </svg>\n",
              "    </button>\n",
              "\n",
              "  <style>\n",
              "    .colab-df-container {\n",
              "      display:flex;\n",
              "      gap: 12px;\n",
              "    }\n",
              "\n",
              "    .colab-df-convert {\n",
              "      background-color: #E8F0FE;\n",
              "      border: none;\n",
              "      border-radius: 50%;\n",
              "      cursor: pointer;\n",
              "      display: none;\n",
              "      fill: #1967D2;\n",
              "      height: 32px;\n",
              "      padding: 0 0 0 0;\n",
              "      width: 32px;\n",
              "    }\n",
              "\n",
              "    .colab-df-convert:hover {\n",
              "      background-color: #E2EBFA;\n",
              "      box-shadow: 0px 1px 2px rgba(60, 64, 67, 0.3), 0px 1px 3px 1px rgba(60, 64, 67, 0.15);\n",
              "      fill: #174EA6;\n",
              "    }\n",
              "\n",
              "    .colab-df-buttons div {\n",
              "      margin-bottom: 4px;\n",
              "    }\n",
              "\n",
              "    [theme=dark] .colab-df-convert {\n",
              "      background-color: #3B4455;\n",
              "      fill: #D2E3FC;\n",
              "    }\n",
              "\n",
              "    [theme=dark] .colab-df-convert:hover {\n",
              "      background-color: #434B5C;\n",
              "      box-shadow: 0px 1px 3px 1px rgba(0, 0, 0, 0.15);\n",
              "      filter: drop-shadow(0px 1px 2px rgba(0, 0, 0, 0.3));\n",
              "      fill: #FFFFFF;\n",
              "    }\n",
              "  </style>\n",
              "\n",
              "    <script>\n",
              "      const buttonEl =\n",
              "        document.querySelector('#df-d6278ded-f589-42c6-a7e9-d7e898f5a168 button.colab-df-convert');\n",
              "      buttonEl.style.display =\n",
              "        google.colab.kernel.accessAllowed ? 'block' : 'none';\n",
              "\n",
              "      async function convertToInteractive(key) {\n",
              "        const element = document.querySelector('#df-d6278ded-f589-42c6-a7e9-d7e898f5a168');\n",
              "        const dataTable =\n",
              "          await google.colab.kernel.invokeFunction('convertToInteractive',\n",
              "                                                    [key], {});\n",
              "        if (!dataTable) return;\n",
              "\n",
              "        const docLinkHtml = 'Like what you see? Visit the ' +\n",
              "          '<a target=\"_blank\" href=https://colab.research.google.com/notebooks/data_table.ipynb>data table notebook</a>'\n",
              "          + ' to learn more about interactive tables.';\n",
              "        element.innerHTML = '';\n",
              "        dataTable['output_type'] = 'display_data';\n",
              "        await google.colab.output.renderOutput(dataTable, element);\n",
              "        const docLink = document.createElement('div');\n",
              "        docLink.innerHTML = docLinkHtml;\n",
              "        element.appendChild(docLink);\n",
              "      }\n",
              "    </script>\n",
              "  </div>\n",
              "\n",
              "\n",
              "<div id=\"df-65892ae6-1233-497d-a3d2-44a7b9506ef0\">\n",
              "  <button class=\"colab-df-quickchart\" onclick=\"quickchart('df-65892ae6-1233-497d-a3d2-44a7b9506ef0')\"\n",
              "            title=\"Suggest charts.\"\n",
              "            style=\"display:none;\">\n",
              "\n",
              "<svg xmlns=\"http://www.w3.org/2000/svg\" height=\"24px\"viewBox=\"0 0 24 24\"\n",
              "     width=\"24px\">\n",
              "    <g>\n",
              "        <path d=\"M19 3H5c-1.1 0-2 .9-2 2v14c0 1.1.9 2 2 2h14c1.1 0 2-.9 2-2V5c0-1.1-.9-2-2-2zM9 17H7v-7h2v7zm4 0h-2V7h2v10zm4 0h-2v-4h2v4z\"/>\n",
              "    </g>\n",
              "</svg>\n",
              "  </button>\n",
              "\n",
              "<style>\n",
              "  .colab-df-quickchart {\n",
              "      --bg-color: #E8F0FE;\n",
              "      --fill-color: #1967D2;\n",
              "      --hover-bg-color: #E2EBFA;\n",
              "      --hover-fill-color: #174EA6;\n",
              "      --disabled-fill-color: #AAA;\n",
              "      --disabled-bg-color: #DDD;\n",
              "  }\n",
              "\n",
              "  [theme=dark] .colab-df-quickchart {\n",
              "      --bg-color: #3B4455;\n",
              "      --fill-color: #D2E3FC;\n",
              "      --hover-bg-color: #434B5C;\n",
              "      --hover-fill-color: #FFFFFF;\n",
              "      --disabled-bg-color: #3B4455;\n",
              "      --disabled-fill-color: #666;\n",
              "  }\n",
              "\n",
              "  .colab-df-quickchart {\n",
              "    background-color: var(--bg-color);\n",
              "    border: none;\n",
              "    border-radius: 50%;\n",
              "    cursor: pointer;\n",
              "    display: none;\n",
              "    fill: var(--fill-color);\n",
              "    height: 32px;\n",
              "    padding: 0;\n",
              "    width: 32px;\n",
              "  }\n",
              "\n",
              "  .colab-df-quickchart:hover {\n",
              "    background-color: var(--hover-bg-color);\n",
              "    box-shadow: 0 1px 2px rgba(60, 64, 67, 0.3), 0 1px 3px 1px rgba(60, 64, 67, 0.15);\n",
              "    fill: var(--button-hover-fill-color);\n",
              "  }\n",
              "\n",
              "  .colab-df-quickchart-complete:disabled,\n",
              "  .colab-df-quickchart-complete:disabled:hover {\n",
              "    background-color: var(--disabled-bg-color);\n",
              "    fill: var(--disabled-fill-color);\n",
              "    box-shadow: none;\n",
              "  }\n",
              "\n",
              "  .colab-df-spinner {\n",
              "    border: 2px solid var(--fill-color);\n",
              "    border-color: transparent;\n",
              "    border-bottom-color: var(--fill-color);\n",
              "    animation:\n",
              "      spin 1s steps(1) infinite;\n",
              "  }\n",
              "\n",
              "  @keyframes spin {\n",
              "    0% {\n",
              "      border-color: transparent;\n",
              "      border-bottom-color: var(--fill-color);\n",
              "      border-left-color: var(--fill-color);\n",
              "    }\n",
              "    20% {\n",
              "      border-color: transparent;\n",
              "      border-left-color: var(--fill-color);\n",
              "      border-top-color: var(--fill-color);\n",
              "    }\n",
              "    30% {\n",
              "      border-color: transparent;\n",
              "      border-left-color: var(--fill-color);\n",
              "      border-top-color: var(--fill-color);\n",
              "      border-right-color: var(--fill-color);\n",
              "    }\n",
              "    40% {\n",
              "      border-color: transparent;\n",
              "      border-right-color: var(--fill-color);\n",
              "      border-top-color: var(--fill-color);\n",
              "    }\n",
              "    60% {\n",
              "      border-color: transparent;\n",
              "      border-right-color: var(--fill-color);\n",
              "    }\n",
              "    80% {\n",
              "      border-color: transparent;\n",
              "      border-right-color: var(--fill-color);\n",
              "      border-bottom-color: var(--fill-color);\n",
              "    }\n",
              "    90% {\n",
              "      border-color: transparent;\n",
              "      border-bottom-color: var(--fill-color);\n",
              "    }\n",
              "  }\n",
              "</style>\n",
              "\n",
              "  <script>\n",
              "    async function quickchart(key) {\n",
              "      const quickchartButtonEl =\n",
              "        document.querySelector('#' + key + ' button');\n",
              "      quickchartButtonEl.disabled = true;  // To prevent multiple clicks.\n",
              "      quickchartButtonEl.classList.add('colab-df-spinner');\n",
              "      try {\n",
              "        const charts = await google.colab.kernel.invokeFunction(\n",
              "            'suggestCharts', [key], {});\n",
              "      } catch (error) {\n",
              "        console.error('Error during call to suggestCharts:', error);\n",
              "      }\n",
              "      quickchartButtonEl.classList.remove('colab-df-spinner');\n",
              "      quickchartButtonEl.classList.add('colab-df-quickchart-complete');\n",
              "    }\n",
              "    (() => {\n",
              "      let quickchartButtonEl =\n",
              "        document.querySelector('#df-65892ae6-1233-497d-a3d2-44a7b9506ef0 button');\n",
              "      quickchartButtonEl.style.display =\n",
              "        google.colab.kernel.accessAllowed ? 'block' : 'none';\n",
              "    })();\n",
              "  </script>\n",
              "</div>\n",
              "    </div>\n",
              "  </div>\n"
            ]
          },
          "metadata": {},
          "execution_count": 10
        }
      ]
    },
    {
      "cell_type": "markdown",
      "source": [
        "# Data Visualizations"
      ],
      "metadata": {
        "id": "na0NiOnw3Ajd"
      }
    },
    {
      "cell_type": "code",
      "source": [
        "acci_type= [sum(vehresult), sum(bikeresult), sum(taxiresult), sum(govresult),sum(pedresult) ]\n",
        "label_list= ['Vehicles','Bicycles','Taxis','Government','Pedestrians']\n",
        "color_list= ('lightcoral','lavender', 'yellow', 'lightgreen', 'lightblue')\n",
        "plt.title('Breakdown of Accident Types',loc= 'center')\n",
        "plt.pie(acci_type,labels= label_list, radius= 1.5, colors= color_list, shadow= 'True', autopct='%1.2f%%', explode=(.05, .4, .25, .15, .05))\n",
        "plt.show()"
      ],
      "metadata": {
        "id": "mLDfTugt3Iu7",
        "colab": {
          "base_uri": "https://localhost:8080/",
          "height": 484
        },
        "outputId": "8188d8db-f9f4-44be-d7d4-4473da716399"
      },
      "execution_count": null,
      "outputs": [
        {
          "output_type": "display_data",
          "data": {
            "text/plain": [
              "<Figure size 640x480 with 1 Axes>"
            ],
            "image/png": "[encoded data removed]"
          },
          "metadata": {}
        }
      ]
    },
    {
      "cell_type": "markdown",
      "source": [
        "In this graph, I decided to show the breakdown of the different types of vehicle categories involved. I decided on a pie chart because it would show the proportions of each category. As we can see the most common is regular vehicles. I was surprised that next was government but it makes sense since there is such a large number of governmental vehicles in the Washington D.C."
      ],
      "metadata": {
        "id": "JbTzpojR0X2B"
      }
    },
    {
      "cell_type": "code",
      "source": [
        "plt.xticks(rotation=45)\n",
        "plt.title('Accidents by Ward',loc= 'center')\n",
        "sns.histplot(data= df3.sort_values(by='WARD'),\n",
        "             x='WARD',\n",
        "             color= 'red');"
      ],
      "metadata": {
        "colab": {
          "base_uri": "https://localhost:8080/",
          "height": 502
        },
        "id": "tmnZvSN0v0sO",
        "outputId": "aded431e-5194-49fc-add1-10fc2933ac5d"
      },
      "execution_count": null,
      "outputs": [
        {
          "output_type": "display_data",
          "data": {
            "text/plain": [
              "<Figure size 640x480 with 1 Axes>"
            ],
            "image/png": "[encoded data removed]"
          },
          "metadata": {}
        }
      ]
    },
    {
      "cell_type": "markdown",
      "source": [
        "Next, I wanted to visualize the distribution of accidents across all wards. I then wanted to see what was causing ward 2 to have significantly more accidents than the rest. So I searched up the populations of each ward from the 2020 census. (https://planning.dc.gov/sites/default/files/dc/sites/op/publication/attachments/Map%202%20-%202020%20Census%20Population%20by%20Census%20Tract%20with%20Ward%20Table.pdf)\n",
        "\n",
        "When I looked at the table it surprised me that almost all wards fell within a relative range but what made me realize the answer to my question was the location, ward 2 includes dowtown, georgetown, and so many areas that create traffic.\n"
      ],
      "metadata": {
        "id": "FlNUPF4C1Zxq"
      }
    },
    {
      "cell_type": "code",
      "source": [
        "impaired_by_ward = df3.groupby('WARD')['DRIVERSIMPAIRED'].sum()[1:]\n",
        "\n",
        "\n",
        "plt.figure(figsize=(5, 5))\n",
        "plt.xticks(rotation=45)\n",
        "sns.barplot(x=impaired_by_ward.index,\n",
        "            y=impaired_by_ward.values,\n",
        "            palette='viridis')\n",
        "plt.xlabel('Ward Number')\n",
        "plt.ylabel('Number of Impaired Drivers')\n",
        "plt.title('Number of Impaired Drivers by Ward')\n",
        "plt.show()"
      ],
      "metadata": {
        "colab": {
          "base_uri": "https://localhost:8080/",
          "height": 518
        },
        "id": "5M8Sw1bT3mG8",
        "outputId": "4ee37bfd-5fe5-4f5d-875d-5aff0e07eee0"
      },
      "execution_count": null,
      "outputs": [
        {
          "output_type": "display_data",
          "data": {
            "text/plain": [
              "<Figure size 500x500 with 1 Axes>"
            ],
            "image/png": "[encoded data removed]"
          },
          "metadata": {}
        }
      ]
    }
  ]
}